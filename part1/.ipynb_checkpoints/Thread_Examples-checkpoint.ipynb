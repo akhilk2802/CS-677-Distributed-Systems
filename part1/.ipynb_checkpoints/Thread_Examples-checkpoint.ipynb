{
 "cells": [
  {
   "cell_type": "code",
   "execution_count": 2,
   "id": "5dc32d4a",
   "metadata": {},
   "outputs": [
    {
     "name": "stdout",
     "output_type": "stream",
     "text": [
      "Task 1 started\n",
      "Task 2 started\n",
      "Task 2 finished\n",
      "Task 1 finished\n",
      "All tasks completed\n"
     ]
    }
   ],
   "source": [
    "import threading \n",
    "import time \n",
    "\n",
    "def task1():\n",
    "    print(\"Task 1 started\")\n",
    "    time.sleep(10)\n",
    "    print(\"Task 1 finished\")\n",
    "\n",
    "def task2():\n",
    "    print(\"Task 2 started\")\n",
    "    time.sleep(5)\n",
    "    print(\"Task 2 finished\")\n",
    "\n",
    "# Create threads\n",
    "thread1 = threading.Thread(target=task1)\n",
    "thread2 = threading.Thread(target=task2)\n",
    "\n",
    "# Start threads\n",
    "thread1.start()\n",
    "thread2.start()\n",
    "\n",
    "# Wait for threads to finish\n",
    "thread1.join()\n",
    "thread2.join()\n",
    "\n",
    "print(\"All tasks completed\")"
   ]
  },
  {
   "cell_type": "code",
   "execution_count": null,
   "id": "19cd4be6",
   "metadata": {},
   "outputs": [],
   "source": []
  }
 ],
 "metadata": {
  "kernelspec": {
   "display_name": "Python 3 (ipykernel)",
   "language": "python",
   "name": "python3"
  },
  "language_info": {
   "codemirror_mode": {
    "name": "ipython",
    "version": 3
   },
   "file_extension": ".py",
   "mimetype": "text/x-python",
   "name": "python",
   "nbconvert_exporter": "python",
   "pygments_lexer": "ipython3",
   "version": "3.11.5"
  }
 },
 "nbformat": 4,
 "nbformat_minor": 5
}
